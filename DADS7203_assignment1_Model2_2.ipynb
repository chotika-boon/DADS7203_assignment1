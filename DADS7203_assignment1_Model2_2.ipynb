{
  "nbformat": 4,
  "nbformat_minor": 0,
  "metadata": {
    "colab": {
      "provenance": [],
      "include_colab_link": true
    },
    "kernelspec": {
      "name": "python3",
      "display_name": "Python 3"
    },
    "language_info": {
      "name": "python"
    },
    "accelerator": "GPU",
    "gpuClass": "standard"
  },
  "cells": [
    {
      "cell_type": "markdown",
      "metadata": {
        "id": "view-in-github",
        "colab_type": "text"
      },
      "source": [
        "<a href=\"https://colab.research.google.com/github/chotika-boon/DADS7203_assignment1/blob/main/DADS7203_assignment1_Model2_2.ipynb\" target=\"_parent\"><img src=\"https://colab.research.google.com/assets/colab-badge.svg\" alt=\"Open In Colab\"/></a>"
      ]
    },
    {
      "cell_type": "markdown",
      "source": [
        "# 1. Prepare VM"
      ],
      "metadata": {
        "id": "H-285_sHVINS"
      }
    },
    {
      "cell_type": "code",
      "source": [
        "import torch\n",
        "torch.cuda.is_available()"
      ],
      "metadata": {
        "colab": {
          "base_uri": "https://localhost:8080/"
        },
        "id": "D_szKYMGqo8A",
        "outputId": "53961a97-3115-4d64-f981-b0f59a95bf69"
      },
      "execution_count": null,
      "outputs": [
        {
          "output_type": "execute_result",
          "data": {
            "text/plain": [
              "True"
            ]
          },
          "metadata": {},
          "execution_count": 1
        }
      ]
    },
    {
      "cell_type": "markdown",
      "source": [
        "# 2. Install Library"
      ],
      "metadata": {
        "id": "Qq4jID3xHgvi"
      }
    },
    {
      "cell_type": "code",
      "source": [
        "!pip install transformers"
      ],
      "metadata": {
        "colab": {
          "base_uri": "https://localhost:8080/"
        },
        "id": "NKm7jIWYqr0g",
        "outputId": "64134d41-1397-4428-bb03-13f1103c79ec"
      },
      "execution_count": null,
      "outputs": [
        {
          "output_type": "stream",
          "name": "stdout",
          "text": [
            "Looking in indexes: https://pypi.org/simple, https://us-python.pkg.dev/colab-wheels/public/simple/\n",
            "Collecting transformers\n",
            "  Downloading transformers-4.27.4-py3-none-any.whl (6.8 MB)\n",
            "\u001b[2K     \u001b[90m━━━━━━━━━━━━━━━━━━━━━━━━━━━━━━━━━━━━━━━━\u001b[0m \u001b[32m6.8/6.8 MB\u001b[0m \u001b[31m56.7 MB/s\u001b[0m eta \u001b[36m0:00:00\u001b[0m\n",
            "\u001b[?25hRequirement already satisfied: pyyaml>=5.1 in /usr/local/lib/python3.9/dist-packages (from transformers) (6.0)\n",
            "Requirement already satisfied: regex!=2019.12.17 in /usr/local/lib/python3.9/dist-packages (from transformers) (2022.10.31)\n",
            "Requirement already satisfied: tqdm>=4.27 in /usr/local/lib/python3.9/dist-packages (from transformers) (4.65.0)\n",
            "Collecting huggingface-hub<1.0,>=0.11.0\n",
            "  Downloading huggingface_hub-0.13.3-py3-none-any.whl (199 kB)\n",
            "\u001b[2K     \u001b[90m━━━━━━━━━━━━━━━━━━━━━━━━━━━━━━━━━━━━━━\u001b[0m \u001b[32m199.8/199.8 KB\u001b[0m \u001b[31m23.4 MB/s\u001b[0m eta \u001b[36m0:00:00\u001b[0m\n",
            "\u001b[?25hRequirement already satisfied: packaging>=20.0 in /usr/local/lib/python3.9/dist-packages (from transformers) (23.0)\n",
            "Collecting tokenizers!=0.11.3,<0.14,>=0.11.1\n",
            "  Downloading tokenizers-0.13.2-cp39-cp39-manylinux_2_17_x86_64.manylinux2014_x86_64.whl (7.6 MB)\n",
            "\u001b[2K     \u001b[90m━━━━━━━━━━━━━━━━━━━━━━━━━━━━━━━━━━━━━━━━\u001b[0m \u001b[32m7.6/7.6 MB\u001b[0m \u001b[31m111.8 MB/s\u001b[0m eta \u001b[36m0:00:00\u001b[0m\n",
            "\u001b[?25hRequirement already satisfied: numpy>=1.17 in /usr/local/lib/python3.9/dist-packages (from transformers) (1.22.4)\n",
            "Requirement already satisfied: requests in /usr/local/lib/python3.9/dist-packages (from transformers) (2.27.1)\n",
            "Requirement already satisfied: filelock in /usr/local/lib/python3.9/dist-packages (from transformers) (3.10.7)\n",
            "Requirement already satisfied: typing-extensions>=3.7.4.3 in /usr/local/lib/python3.9/dist-packages (from huggingface-hub<1.0,>=0.11.0->transformers) (4.5.0)\n",
            "Requirement already satisfied: urllib3<1.27,>=1.21.1 in /usr/local/lib/python3.9/dist-packages (from requests->transformers) (1.26.15)\n",
            "Requirement already satisfied: idna<4,>=2.5 in /usr/local/lib/python3.9/dist-packages (from requests->transformers) (3.4)\n",
            "Requirement already satisfied: charset-normalizer~=2.0.0 in /usr/local/lib/python3.9/dist-packages (from requests->transformers) (2.0.12)\n",
            "Requirement already satisfied: certifi>=2017.4.17 in /usr/local/lib/python3.9/dist-packages (from requests->transformers) (2022.12.7)\n",
            "Installing collected packages: tokenizers, huggingface-hub, transformers\n",
            "Successfully installed huggingface-hub-0.13.3 tokenizers-0.13.2 transformers-4.27.4\n"
          ]
        }
      ]
    },
    {
      "cell_type": "code",
      "execution_count": null,
      "metadata": {
        "colab": {
          "base_uri": "https://localhost:8080/"
        },
        "id": "iY3XWjbPG-iW",
        "outputId": "639e73bc-7bd0-4eec-dbef-95e48ee3eae9"
      },
      "outputs": [
        {
          "output_type": "stream",
          "name": "stdout",
          "text": [
            "Mounted at /content/gdrive\n"
          ]
        }
      ],
      "source": [
        "from google.colab import drive\n",
        "drive.mount('/content/gdrive')"
      ]
    },
    {
      "cell_type": "code",
      "source": [
        "!pip install pythainlp"
      ],
      "metadata": {
        "colab": {
          "base_uri": "https://localhost:8080/"
        },
        "id": "TzjpqwA4UbNk",
        "outputId": "2024ab47-762a-4d91-a3ad-e9fefeb72ead"
      },
      "execution_count": null,
      "outputs": [
        {
          "output_type": "stream",
          "name": "stdout",
          "text": [
            "Looking in indexes: https://pypi.org/simple, https://us-python.pkg.dev/colab-wheels/public/simple/\n",
            "Collecting pythainlp\n",
            "  Downloading pythainlp-3.1.1-py3-none-any.whl (9.6 MB)\n",
            "\u001b[2K     \u001b[90m━━━━━━━━━━━━━━━━━━━━━━━━━━━━━━━━━━━━━━━━\u001b[0m \u001b[32m9.6/9.6 MB\u001b[0m \u001b[31m62.9 MB/s\u001b[0m eta \u001b[36m0:00:00\u001b[0m\n",
            "\u001b[?25hRequirement already satisfied: requests>=2.22.0 in /usr/local/lib/python3.9/dist-packages (from pythainlp) (2.27.1)\n",
            "Requirement already satisfied: certifi>=2017.4.17 in /usr/local/lib/python3.9/dist-packages (from requests>=2.22.0->pythainlp) (2022.12.7)\n",
            "Requirement already satisfied: idna<4,>=2.5 in /usr/local/lib/python3.9/dist-packages (from requests>=2.22.0->pythainlp) (3.4)\n",
            "Requirement already satisfied: urllib3<1.27,>=1.21.1 in /usr/local/lib/python3.9/dist-packages (from requests>=2.22.0->pythainlp) (1.26.15)\n",
            "Requirement already satisfied: charset-normalizer~=2.0.0 in /usr/local/lib/python3.9/dist-packages (from requests>=2.22.0->pythainlp) (2.0.12)\n",
            "Installing collected packages: pythainlp\n",
            "Successfully installed pythainlp-3.1.1\n"
          ]
        }
      ]
    },
    {
      "cell_type": "code",
      "source": [
        "import numpy as np\n",
        "import pandas as pd\n",
        "import torch\n",
        "import torch.nn as nn\n",
        "from sklearn.model_selection import train_test_split\n",
        "from sklearn.metrics import classification_report\n",
        "import transformers\n",
        "from transformers import AutoModel, BertTokenizerFast\n",
        "\n",
        "# specify GPU\n",
        "device = torch.device(\"cuda\")"
      ],
      "metadata": {
        "id": "zb8MubhYCM17"
      },
      "execution_count": null,
      "outputs": []
    },
    {
      "cell_type": "code",
      "source": [
        "from pythainlp.corpus.common import thai_stopwords\n",
        "thai_stopwords = list(thai_stopwords())"
      ],
      "metadata": {
        "id": "mEPNdgiUUTLB"
      },
      "execution_count": null,
      "outputs": []
    },
    {
      "cell_type": "markdown",
      "source": [
        "# 3. Load Data"
      ],
      "metadata": {
        "id": "gweOJNL6UV6r"
      }
    },
    {
      "cell_type": "code",
      "source": [
        "df = pd.read_csv(\"/content/gdrive/MyDrive/Lab_2/Lab_2/dataset/tcas61-2.csv\")\n",
        "df.sample(5)"
      ],
      "metadata": {
        "colab": {
          "base_uri": "https://localhost:8080/",
          "height": 206
        },
        "id": "c1TalNJjHPdD",
        "outputId": "8256678d-0f96-4f69-8f08-3767ba25cbaf"
      },
      "execution_count": null,
      "outputs": [
        {
          "output_type": "execute_result",
          "data": {
            "text/plain": [
              "    label                                               text\n",
              "55      0                เคลียดนานมาก เข้ารหัสไม่ได้สักที 😭😭\n",
              "93      1                     ติดแล้ววววววววววขอบคุณมากนะคะ \n",
              "59      0  เข้ามาแล้วก็เครียด ทั้งเครียดทั้งกดดันทั้งกังว...\n",
              "97      0  ตอนนี้รอประกาศผลจนฟุ่งซานล่ะ นานเกิ้นแถมไม่รู้...\n",
              "36      1  ได้เป็นลูกช้างแล้วโว้ยยยย ติดแล้ว ดีใจมาก 💕💕💕💕💕😍😍"
            ],
            "text/html": [
              "\n",
              "  <div id=\"df-d9e7d13a-872c-4d76-a345-252c0258b4e9\">\n",
              "    <div class=\"colab-df-container\">\n",
              "      <div>\n",
              "<style scoped>\n",
              "    .dataframe tbody tr th:only-of-type {\n",
              "        vertical-align: middle;\n",
              "    }\n",
              "\n",
              "    .dataframe tbody tr th {\n",
              "        vertical-align: top;\n",
              "    }\n",
              "\n",
              "    .dataframe thead th {\n",
              "        text-align: right;\n",
              "    }\n",
              "</style>\n",
              "<table border=\"1\" class=\"dataframe\">\n",
              "  <thead>\n",
              "    <tr style=\"text-align: right;\">\n",
              "      <th></th>\n",
              "      <th>label</th>\n",
              "      <th>text</th>\n",
              "    </tr>\n",
              "  </thead>\n",
              "  <tbody>\n",
              "    <tr>\n",
              "      <th>55</th>\n",
              "      <td>0</td>\n",
              "      <td>เคลียดนานมาก เข้ารหัสไม่ได้สักที 😭😭</td>\n",
              "    </tr>\n",
              "    <tr>\n",
              "      <th>93</th>\n",
              "      <td>1</td>\n",
              "      <td>ติดแล้ววววววววววขอบคุณมากนะคะ</td>\n",
              "    </tr>\n",
              "    <tr>\n",
              "      <th>59</th>\n",
              "      <td>0</td>\n",
              "      <td>เข้ามาแล้วก็เครียด ทั้งเครียดทั้งกดดันทั้งกังว...</td>\n",
              "    </tr>\n",
              "    <tr>\n",
              "      <th>97</th>\n",
              "      <td>0</td>\n",
              "      <td>ตอนนี้รอประกาศผลจนฟุ่งซานล่ะ นานเกิ้นแถมไม่รู้...</td>\n",
              "    </tr>\n",
              "    <tr>\n",
              "      <th>36</th>\n",
              "      <td>1</td>\n",
              "      <td>ได้เป็นลูกช้างแล้วโว้ยยยย ติดแล้ว ดีใจมาก 💕💕💕💕💕😍😍</td>\n",
              "    </tr>\n",
              "  </tbody>\n",
              "</table>\n",
              "</div>\n",
              "      <button class=\"colab-df-convert\" onclick=\"convertToInteractive('df-d9e7d13a-872c-4d76-a345-252c0258b4e9')\"\n",
              "              title=\"Convert this dataframe to an interactive table.\"\n",
              "              style=\"display:none;\">\n",
              "        \n",
              "  <svg xmlns=\"http://www.w3.org/2000/svg\" height=\"24px\"viewBox=\"0 0 24 24\"\n",
              "       width=\"24px\">\n",
              "    <path d=\"M0 0h24v24H0V0z\" fill=\"none\"/>\n",
              "    <path d=\"M18.56 5.44l.94 2.06.94-2.06 2.06-.94-2.06-.94-.94-2.06-.94 2.06-2.06.94zm-11 1L8.5 8.5l.94-2.06 2.06-.94-2.06-.94L8.5 2.5l-.94 2.06-2.06.94zm10 10l.94 2.06.94-2.06 2.06-.94-2.06-.94-.94-2.06-.94 2.06-2.06.94z\"/><path d=\"M17.41 7.96l-1.37-1.37c-.4-.4-.92-.59-1.43-.59-.52 0-1.04.2-1.43.59L10.3 9.45l-7.72 7.72c-.78.78-.78 2.05 0 2.83L4 21.41c.39.39.9.59 1.41.59.51 0 1.02-.2 1.41-.59l7.78-7.78 2.81-2.81c.8-.78.8-2.07 0-2.86zM5.41 20L4 18.59l7.72-7.72 1.47 1.35L5.41 20z\"/>\n",
              "  </svg>\n",
              "      </button>\n",
              "      \n",
              "  <style>\n",
              "    .colab-df-container {\n",
              "      display:flex;\n",
              "      flex-wrap:wrap;\n",
              "      gap: 12px;\n",
              "    }\n",
              "\n",
              "    .colab-df-convert {\n",
              "      background-color: #E8F0FE;\n",
              "      border: none;\n",
              "      border-radius: 50%;\n",
              "      cursor: pointer;\n",
              "      display: none;\n",
              "      fill: #1967D2;\n",
              "      height: 32px;\n",
              "      padding: 0 0 0 0;\n",
              "      width: 32px;\n",
              "    }\n",
              "\n",
              "    .colab-df-convert:hover {\n",
              "      background-color: #E2EBFA;\n",
              "      box-shadow: 0px 1px 2px rgba(60, 64, 67, 0.3), 0px 1px 3px 1px rgba(60, 64, 67, 0.15);\n",
              "      fill: #174EA6;\n",
              "    }\n",
              "\n",
              "    [theme=dark] .colab-df-convert {\n",
              "      background-color: #3B4455;\n",
              "      fill: #D2E3FC;\n",
              "    }\n",
              "\n",
              "    [theme=dark] .colab-df-convert:hover {\n",
              "      background-color: #434B5C;\n",
              "      box-shadow: 0px 1px 3px 1px rgba(0, 0, 0, 0.15);\n",
              "      filter: drop-shadow(0px 1px 2px rgba(0, 0, 0, 0.3));\n",
              "      fill: #FFFFFF;\n",
              "    }\n",
              "  </style>\n",
              "\n",
              "      <script>\n",
              "        const buttonEl =\n",
              "          document.querySelector('#df-d9e7d13a-872c-4d76-a345-252c0258b4e9 button.colab-df-convert');\n",
              "        buttonEl.style.display =\n",
              "          google.colab.kernel.accessAllowed ? 'block' : 'none';\n",
              "\n",
              "        async function convertToInteractive(key) {\n",
              "          const element = document.querySelector('#df-d9e7d13a-872c-4d76-a345-252c0258b4e9');\n",
              "          const dataTable =\n",
              "            await google.colab.kernel.invokeFunction('convertToInteractive',\n",
              "                                                     [key], {});\n",
              "          if (!dataTable) return;\n",
              "\n",
              "          const docLinkHtml = 'Like what you see? Visit the ' +\n",
              "            '<a target=\"_blank\" href=https://colab.research.google.com/notebooks/data_table.ipynb>data table notebook</a>'\n",
              "            + ' to learn more about interactive tables.';\n",
              "          element.innerHTML = '';\n",
              "          dataTable['output_type'] = 'display_data';\n",
              "          await google.colab.output.renderOutput(dataTable, element);\n",
              "          const docLink = document.createElement('div');\n",
              "          docLink.innerHTML = docLinkHtml;\n",
              "          element.appendChild(docLink);\n",
              "        }\n",
              "      </script>\n",
              "    </div>\n",
              "  </div>\n",
              "  "
            ]
          },
          "metadata": {},
          "execution_count": 7
        }
      ]
    },
    {
      "cell_type": "code",
      "source": [
        "df.shape"
      ],
      "metadata": {
        "colab": {
          "base_uri": "https://localhost:8080/"
        },
        "id": "dPpex3JeuWQc",
        "outputId": "51ec1cc2-94ef-4ace-9841-7600ea7d8ea1"
      },
      "execution_count": null,
      "outputs": [
        {
          "output_type": "execute_result",
          "data": {
            "text/plain": [
              "(124, 2)"
            ]
          },
          "metadata": {},
          "execution_count": 8
        }
      ]
    },
    {
      "cell_type": "code",
      "source": [
        "df['label'].value_counts().plot.bar()"
      ],
      "metadata": {
        "colab": {
          "base_uri": "https://localhost:8080/",
          "height": 442
        },
        "id": "DvCKqUvXIZb1",
        "outputId": "695273ce-c54e-4e85-9989-8f3560f78974"
      },
      "execution_count": null,
      "outputs": [
        {
          "output_type": "execute_result",
          "data": {
            "text/plain": [
              "<Axes: >"
            ]
          },
          "metadata": {},
          "execution_count": 9
        },
        {
          "output_type": "display_data",
          "data": {
            "text/plain": [
              "<Figure size 640x480 with 1 Axes>"
            ],
            "image/png": "[encoded data removed]"
          },
          "metadata": {}
        }
      ]
    },
    {
      "cell_type": "markdown",
      "source": [
        "# 4. Train-Test Split"
      ],
      "metadata": {
        "id": "Oe3LFqxEkGdP"
      }
    },
    {
      "cell_type": "code",
      "source": [
        "train_text, test_text, train_labels, test_labels = train_test_split(df['text'], df['label'], \n",
        "                                                                    random_state=101, \n",
        "                                                                    test_size=0.3, \n",
        "                                                                    stratify=df['label'])\n",
        "\n",
        "print('train_text shape =',train_text.shape)\n",
        "print('test_text shape =',test_text.shape)\n",
        "\n",
        "# we will use temp_text and temp_labels to create validation and test set\n",
        "#val_text, test_text, val_labels, test_labels = train_test_split(temp_text, temp_labels, \n",
        "                                                                #random_state=101, \n",
        "                                                                #test_size=0.5, \n",
        "                                                                #stratify=temp_labels)\n",
        "\n",
        "#print('val_text shape =',val_text.shape)\n",
        "#print('test_text shape =',test_text.shape)"
      ],
      "metadata": {
        "colab": {
          "base_uri": "https://localhost:8080/"
        },
        "id": "ctf94DK50wgr",
        "outputId": "bb37dc6c-5e18-4b87-91ad-c17dd04ca998"
      },
      "execution_count": null,
      "outputs": [
        {
          "output_type": "stream",
          "name": "stdout",
          "text": [
            "train_text shape = (86,)\n",
            "test_text shape = (38,)\n"
          ]
        }
      ]
    },
    {
      "cell_type": "code",
      "source": [
        "from transformers import AutoTokenizer, AutoModel\n",
        "from google.colab import widgets"
      ],
      "metadata": {
        "id": "heufWhXRtXj4"
      },
      "execution_count": null,
      "outputs": []
    },
    {
      "cell_type": "code",
      "source": [
        "pretrained = \"Geotrend/bert-base-th-cased\"#@param [\"monsoon-nlp/bert-base-thai\", \"bert-base-multilingual-uncased\", \"Geotrend/bert-base-th-cased\"] "
      ],
      "metadata": {
        "id": "suprmhshyhQf"
      },
      "execution_count": null,
      "outputs": []
    },
    {
      "cell_type": "code",
      "source": [
        "name = pretrained"
      ],
      "metadata": {
        "id": "RXQrNLqNyhT5"
      },
      "execution_count": null,
      "outputs": []
    },
    {
      "cell_type": "code",
      "source": [
        "tokenizer = AutoTokenizer.from_pretrained(name)\n",
        "bert = AutoModel.from_pretrained(name)"
      ],
      "metadata": {
        "colab": {
          "base_uri": "https://localhost:8080/"
        },
        "id": "pOwHJD4RzEuG",
        "outputId": "7107cfd9-986c-4f34-daec-1f55bc2dcf8f"
      },
      "execution_count": null,
      "outputs": [
        {
          "output_type": "stream",
          "name": "stderr",
          "text": [
            "Some weights of the model checkpoint at Geotrend/bert-base-th-cased were not used when initializing BertModel: ['cls.predictions.decoder.bias', 'cls.predictions.decoder.weight', 'cls.predictions.transform.dense.weight', 'cls.predictions.bias', 'cls.predictions.transform.LayerNorm.weight', 'cls.predictions.transform.dense.bias', 'cls.predictions.transform.LayerNorm.bias']\n",
            "- This IS expected if you are initializing BertModel from the checkpoint of a model trained on another task or with another architecture (e.g. initializing a BertForSequenceClassification model from a BertForPreTraining model).\n",
            "- This IS NOT expected if you are initializing BertModel from the checkpoint of a model that you expect to be exactly identical (initializing a BertForSequenceClassification model from a BertForSequenceClassification model).\n",
            "Some weights of BertModel were not initialized from the model checkpoint at Geotrend/bert-base-th-cased and are newly initialized: ['bert.pooler.dense.bias', 'bert.pooler.dense.weight']\n",
            "You should probably TRAIN this model on a down-stream task to be able to use it for predictions and inference.\n"
          ]
        }
      ]
    },
    {
      "cell_type": "code",
      "source": [
        "# get length of all the messages in the train set\n",
        "seq_len = [len(i.split()) for i in train_text]\n",
        "\n",
        "pd.Series(seq_len).hist(bins = 5)"
      ],
      "metadata": {
        "colab": {
          "base_uri": "https://localhost:8080/",
          "height": 447
        },
        "id": "htJsZk46zE4T",
        "outputId": "5170fa91-22f0-4351-e051-d39ffe6667ba"
      },
      "execution_count": null,
      "outputs": [
        {
          "output_type": "execute_result",
          "data": {
            "text/plain": [
              "<Axes: >"
            ]
          },
          "metadata": {},
          "execution_count": 42
        },
        {
          "output_type": "display_data",
          "data": {
            "text/plain": [
              "<Figure size 640x480 with 1 Axes>"
            ],
            "image/png": "[encoded data removed]"
          },
          "metadata": {}
        }
      ]
    },
    {
      "cell_type": "code",
      "source": [
        "max_seq_len = 8"
      ],
      "metadata": {
        "id": "YdEPYjM-0r6Z"
      },
      "execution_count": null,
      "outputs": []
    },
    {
      "cell_type": "code",
      "source": [
        "# tokenize and encode sequences in the training set\n",
        "# Parameters max_length = The maximum length (in number of tokens) for the inputs to the transformer model\n",
        "\n",
        "# tokenize and encode sequences in the train set\n",
        "tokens_train = tokenizer.batch_encode_plus(\n",
        "    train_text.tolist(),\n",
        "    max_length = max_seq_len,\n",
        "    pad_to_max_length=True,\n",
        "    truncation=True,\n",
        "    return_token_type_ids=False\n",
        ")\n",
        "\n",
        "# tokenize and encode sequences in the validation set\n",
        "#tokens_val = tokenizer.batch_encode_plus(\n",
        "    #val_text.tolist(),\n",
        "    #max_length = max_seq_len,\n",
        "    #pad_to_max_length=True,\n",
        "    #truncation=True,\n",
        "    #return_token_type_ids=False\n",
        "#)\n",
        "\n",
        "# tokenize and encode sequences in the test set\n",
        "tokens_test = tokenizer.batch_encode_plus(\n",
        "    test_text.tolist(),\n",
        "    max_length = max_seq_len,\n",
        "    pad_to_max_length=True,\n",
        "    truncation=True,\n",
        "    return_token_type_ids=False\n",
        ")"
      ],
      "metadata": {
        "colab": {
          "base_uri": "https://localhost:8080/"
        },
        "id": "RBI0K9VizE_X",
        "outputId": "1d02ed6e-7a13-44c5-ee03-fbf5e57466d7"
      },
      "execution_count": null,
      "outputs": [
        {
          "output_type": "stream",
          "name": "stderr",
          "text": [
            "/usr/local/lib/python3.9/dist-packages/transformers/tokenization_utils_base.py:2346: FutureWarning: The `pad_to_max_length` argument is deprecated and will be removed in a future version, use `padding=True` or `padding='longest'` to pad to the longest sequence in the batch, or use `padding='max_length'` to pad to a max length. In this case, you can give a specific length with `max_length` (e.g. `max_length=45`) or leave max_length to None to pad to the maximal input size of the model (e.g. 512 for Bert).\n",
            "  warnings.warn(\n"
          ]
        }
      ]
    },
    {
      "cell_type": "markdown",
      "source": [
        "# Convert Integer Sequences to Tensors"
      ],
      "metadata": {
        "id": "p13YjQ9i4kAh"
      }
    },
    {
      "cell_type": "code",
      "source": [
        "#1.key = ids\n",
        "#2.query = attention_mask\n",
        "#3.value = label (0,1)\n",
        "# for train set\n",
        "train_seq = torch.tensor(tokens_train['input_ids'])\n",
        "train_mask = torch.tensor(tokens_train['attention_mask'])\n",
        "train_y = torch.tensor(train_labels.tolist())\n",
        "\n",
        "# for validation set\n",
        "#val_seq = torch.tensor(tokens_val['input_ids'])\n",
        "#val_mask = torch.tensor(tokens_val['attention_mask'])\n",
        "#val_y = torch.tensor(val_labels.tolist())\n",
        "\n",
        "# for test set\n",
        "test_seq = torch.tensor(tokens_test['input_ids'])\n",
        "test_mask = torch.tensor(tokens_test['attention_mask'])\n",
        "test_y = torch.tensor(test_labels.tolist())"
      ],
      "metadata": {
        "id": "Qzj4E3VwzFDd"
      },
      "execution_count": null,
      "outputs": []
    },
    {
      "cell_type": "markdown",
      "source": [
        "# **Create DataLoaders**"
      ],
      "metadata": {
        "id": "PY3AS3aQ5_ZE"
      }
    },
    {
      "cell_type": "code",
      "source": [
        "from torch.utils.data import TensorDataset, DataLoader, RandomSampler, SequentialSampler\n",
        "\n",
        "#define a batch size\n",
        "batch_size = 32\n",
        "\n",
        "# wrap tensors\n",
        "train_data = TensorDataset(train_seq, train_mask, train_y)\n",
        "\n",
        "# sampler for sampling the data during training\n",
        "train_sampler = RandomSampler(train_data)\n",
        "\n",
        "# dataLoader for train set\n",
        "train_dataloader = DataLoader(train_data, sampler=train_sampler, batch_size=batch_size)\n",
        "\n",
        "# wrap tensors\n",
        "#val_data = TensorDataset(val_seq, val_mask, val_y)\n",
        "\n",
        "# sampler for sampling the data during training\n",
        "#val_sampler = SequentialSampler(val_data)\n",
        "\n",
        "# dataLoader for validation set\n",
        "#val_dataloader = DataLoader(val_data, sampler = val_sampler, batch_size=batch_size)"
      ],
      "metadata": {
        "id": "jkSTW33DzFGf"
      },
      "execution_count": null,
      "outputs": []
    },
    {
      "cell_type": "code",
      "source": [
        "# unfreeze all the parameters\n",
        "for param in bert.parameters():\n",
        "    param.requires_grad = False"
      ],
      "metadata": {
        "id": "-IFnyIepzFJi"
      },
      "execution_count": null,
      "outputs": []
    },
    {
      "cell_type": "markdown",
      "source": [
        "# **Define Model Architecture**"
      ],
      "metadata": {
        "id": "MEL80kuq7LM-"
      }
    },
    {
      "cell_type": "code",
      "source": [
        "class BERT_Arch(nn.Module):\n",
        "# Applies a linear transformation to the incoming data:\n",
        "# Parameters in_features – size of each input sample and out_features – size of each output sample\n",
        "\n",
        "    def __init__(self, bert):\n",
        "      \n",
        "      super(BERT_Arch, self).__init__()\n",
        "\n",
        "      self.bert = bert \n",
        "      \n",
        "      # dropout layer\n",
        "      self.dropout = nn.Dropout(0.1)\n",
        "      \n",
        "      # relu activation function\n",
        "      self.relu =  nn.ReLU()\n",
        "\n",
        "      # dense layer 1\n",
        "      self.fc1 = nn.Linear(768,512)    \n",
        "      \n",
        "      # dense layer 2 (Output layer)\n",
        "      self.fc2 = nn.Linear(512,2)\n",
        "\n",
        "      #softmax activation function\n",
        "      self.softmax = nn.LogSoftmax(dim=1)\n",
        "\n",
        "    #define the forward pass\n",
        "    def forward(self, sent_id, mask):\n",
        "\n",
        "      #pass the inputs to the model  \n",
        "      _, cls_hs = self.bert(sent_id, attention_mask=mask,return_dict=False)\n",
        "      \n",
        "      x = self.fc1(cls_hs)\n",
        "\n",
        "      x = self.relu(x)\n",
        "\n",
        "      x = self.dropout(x)\n",
        "\n",
        "      # output layer\n",
        "      x = self.fc2(x)\n",
        "      \n",
        "      # apply softmax activation\n",
        "      x = self.softmax(x)\n",
        "\n",
        "      return x"
      ],
      "metadata": {
        "id": "nXv8yYR6zFM3"
      },
      "execution_count": null,
      "outputs": []
    },
    {
      "cell_type": "code",
      "source": [
        "# pass the pre-trained BERT to our define architecture\n",
        "model = BERT_Arch(bert)\n",
        "\n",
        "# push the model to GPU\n",
        "model = model.to(device)"
      ],
      "metadata": {
        "id": "4FmiRVvlzFQx"
      },
      "execution_count": null,
      "outputs": []
    },
    {
      "cell_type": "code",
      "source": [
        "# optimizer from hugging face transformers\n",
        "from transformers import AdamW\n",
        "\n",
        "# define the optimizer\n",
        "optimizer = AdamW(model.parameters(), lr = 1e-2)"
      ],
      "metadata": {
        "colab": {
          "base_uri": "https://localhost:8080/"
        },
        "id": "gCrsk5XUzFX2",
        "outputId": "865a3d97-6ffb-4980-86a1-3d448517f578"
      },
      "execution_count": null,
      "outputs": [
        {
          "output_type": "stream",
          "name": "stderr",
          "text": [
            "/usr/local/lib/python3.9/dist-packages/transformers/optimization.py:391: FutureWarning: This implementation of AdamW is deprecated and will be removed in a future version. Use the PyTorch implementation torch.optim.AdamW instead, or set `no_deprecation_warning=True` to disable this warning\n",
            "  warnings.warn(\n"
          ]
        }
      ]
    },
    {
      "cell_type": "markdown",
      "source": [
        "# **Find Class Weights**"
      ],
      "metadata": {
        "id": "MkbfLcQt9Bxn"
      }
    },
    {
      "cell_type": "code",
      "source": [
        "from sklearn.utils.class_weight import compute_class_weight\n",
        "\n",
        "#compute the class weights for unbalanced datasets\n",
        "class_wts = compute_class_weight('balanced', classes= np.unique(train_labels), y= train_labels)\n",
        "\n",
        "print(class_wts)"
      ],
      "metadata": {
        "colab": {
          "base_uri": "https://localhost:8080/"
        },
        "id": "Mx-k2AA4zFbx",
        "outputId": "77166089-59fb-4a9e-a3dc-d255098738bb"
      },
      "execution_count": null,
      "outputs": [
        {
          "output_type": "stream",
          "name": "stdout",
          "text": [
            "[0.76785714 1.43333333]\n"
          ]
        }
      ]
    },
    {
      "cell_type": "code",
      "source": [
        "# convert class weights to tensor\n",
        "weights= torch.tensor(class_wts,dtype=torch.float)\n",
        "weights = weights.to(device)\n",
        "\n",
        "# loss function\n",
        "cross_entropy  = nn.NLLLoss(weight=weights) \n",
        "\n",
        "# number of training epochs\n",
        "epochs = 100"
      ],
      "metadata": {
        "id": "Duf5eOjftTMD"
      },
      "execution_count": null,
      "outputs": []
    },
    {
      "cell_type": "markdown",
      "source": [
        "# **Fine Tune Model**"
      ],
      "metadata": {
        "id": "kLSrD47a-RH0"
      }
    },
    {
      "cell_type": "code",
      "source": [
        "# function to train the model\n",
        "def train():\n",
        "  \n",
        "  model.train()\n",
        "\n",
        "  total_loss, total_accuracy = 0, 0\n",
        "  \n",
        "  # empty list to save model predictions\n",
        "  total_preds=[]\n",
        "  \n",
        "  # iterate over batches\n",
        "  for step,batch in enumerate(train_dataloader):\n",
        "    \n",
        "    # progress update after every 50 batches.\n",
        "    if step % 50 == 0 and not step == 0:\n",
        "      print('  Batch {:>5,}  of  {:>5,}.'.format(step, len(train_dataloader)))\n",
        "\n",
        "    # push the batch to gpu\n",
        "    batch = [r.to(device) for r in batch]\n",
        " \n",
        "    sent_id, mask, labels = batch\n",
        " \n",
        "    # clear previously calculated gradients \n",
        "    model.zero_grad()        \n",
        "\n",
        "    # get model predictions for the current batch\n",
        "    preds = model(sent_id, mask)\n",
        "\n",
        "    # compute the loss between actual and predicted values\n",
        "    loss = cross_entropy(preds, labels)\n",
        "\n",
        "    # add on to the total loss\n",
        "    total_loss = total_loss + loss.item()\n",
        "\n",
        "    # backward pass to calculate the gradients\n",
        "    loss.backward()\n",
        "\n",
        "    # clip the the gradients to 1.0. It helps in preventing the exploding gradient problem\n",
        "    torch.nn.utils.clip_grad_norm_(model.parameters(), 1.0)\n",
        "\n",
        "    # update parameters\n",
        "    optimizer.step()\n",
        "\n",
        "    # model predictions are stored on GPU. So, push it to CPU\n",
        "    preds=preds.detach().cpu().numpy()\n",
        "\n",
        "    # append the model predictions\n",
        "    total_preds.append(preds)\n",
        "\n",
        "  # compute the training loss of the epoch\n",
        "  avg_loss = total_loss / len(train_dataloader)\n",
        "  \n",
        "  # predictions are in the form of (no. of batches, size of batch, no. of classes).\n",
        "  # reshape the predictions in form of (number of samples, no. of classes)\n",
        "  total_preds  = np.concatenate(total_preds, axis=0)\n",
        "\n",
        "  #returns the loss and predictions\n",
        "  return avg_loss, total_preds"
      ],
      "metadata": {
        "id": "mM_nZe8AtXoA"
      },
      "execution_count": null,
      "outputs": []
    },
    {
      "cell_type": "code",
      "source": [
        "# function for evaluating the model\n",
        "def evaluate():\n",
        "  \n",
        "  print(\"\\nEvaluating...\")\n",
        "  \n",
        "  # deactivate dropout layers\n",
        "  model.eval()\n",
        "\n",
        "  total_loss, total_accuracy = 0, 0\n",
        "  \n",
        "  # empty list to save the model predictions\n",
        "  total_preds = []\n",
        "\n",
        "  # iterate over batches\n",
        "  for step,batch in enumerate(train_dataloader):\n",
        "    \n",
        "    # Progress update every 50 batches.\n",
        "    if step % 50 == 0 and not step == 0:\n",
        "      \n",
        "      # Calculate elapsed time in minutes.\n",
        "      elapsed = format_time(time.time() - t0)\n",
        "            \n",
        "      # Report progress.\n",
        "      print('  Batch {:>5,}  of  {:>5,}.'.format(step, len(train_dataloader)))\n",
        "\n",
        "    # push the batch to gpu\n",
        "    batch = [t.to(device) for t in batch]\n",
        "\n",
        "    sent_id, mask, labels = batch\n",
        "\n",
        "    # deactivate autograd\n",
        "    with torch.no_grad():\n",
        "      \n",
        "      # model predictions\n",
        "      preds = model(sent_id, mask)\n",
        "\n",
        "      # compute the validation loss between actual and predicted values\n",
        "      loss = cross_entropy(preds,labels)\n",
        "\n",
        "      total_loss = total_loss + loss.item()\n",
        "\n",
        "      preds = preds.detach().cpu().numpy()\n",
        "\n",
        "      total_preds.append(preds)\n",
        "\n",
        "  # compute the validation loss of the epoch\n",
        "  avg_loss = total_loss / len(train_dataloader) \n",
        "\n",
        "  # reshape the predictions in form of (number of samples, no. of classes)\n",
        "  total_preds  = np.concatenate(total_preds, axis=0)\n",
        "\n",
        "  return avg_loss, total_preds"
      ],
      "metadata": {
        "id": "h9KWZG5ptXsC"
      },
      "execution_count": null,
      "outputs": []
    },
    {
      "cell_type": "markdown",
      "source": [
        "# **Start Model Training**"
      ],
      "metadata": {
        "id": "-eRgEoge-v3c"
      }
    },
    {
      "cell_type": "code",
      "source": [
        "# set initial loss to infinite\n",
        "best_valid_loss = float('inf')\n",
        "\n",
        "# empty lists to store training and validation loss of each epoch\n",
        "train_losses=[]\n",
        "valid_losses=[]\n",
        "\n",
        "#for each epoch\n",
        "for epoch in range(epochs):\n",
        "     \n",
        "    print('\\n Epoch {:} / {:}'.format(epoch + 1, epochs))\n",
        "    \n",
        "    #train model\n",
        "    train_loss, _ = train()\n",
        "\n",
        "    \n",
        "    #evaluate model\n",
        "    valid_loss, _ = evaluate()\n",
        "    \n",
        "    #save the best model\n",
        "    if valid_loss < best_valid_loss:\n",
        "        best_valid_loss = valid_loss\n",
        "        torch.save(model.state_dict(), 'saved_weights.pt')\n",
        "    \n",
        "    # append training and validation loss\n",
        "    train_losses.append(train_loss)\n",
        "    valid_losses.append(valid_loss)\n",
        "    \n",
        "    print(f'\\nTraining Loss: {train_loss:.3f}')\n",
        "    print(f'Validation Loss: {valid_loss:.3f}')"
      ],
      "metadata": {
        "colab": {
          "base_uri": "https://localhost:8080/"
        },
        "id": "vJttQKAHtTWL",
        "outputId": "5689a5bd-62cf-40b1-cb74-51a02271b6db"
      },
      "execution_count": null,
      "outputs": [
        {
          "output_type": "stream",
          "name": "stdout",
          "text": [
            "\n",
            " Epoch 1 / 100\n",
            "\n",
            "Evaluating...\n",
            "\n",
            "Training Loss: 1.274\n",
            "Validation Loss: 0.767\n",
            "\n",
            " Epoch 2 / 100\n",
            "\n",
            "Evaluating...\n",
            "\n",
            "Training Loss: 1.265\n",
            "Validation Loss: 0.624\n",
            "\n",
            " Epoch 3 / 100\n",
            "\n",
            "Evaluating...\n",
            "\n",
            "Training Loss: 0.977\n",
            "Validation Loss: 1.146\n",
            "\n",
            " Epoch 4 / 100\n",
            "\n",
            "Evaluating...\n",
            "\n",
            "Training Loss: 0.698\n",
            "Validation Loss: 1.010\n",
            "\n",
            " Epoch 5 / 100\n",
            "\n",
            "Evaluating...\n",
            "\n",
            "Training Loss: 0.832\n",
            "Validation Loss: 0.500\n",
            "\n",
            " Epoch 6 / 100\n",
            "\n",
            "Evaluating...\n",
            "\n",
            "Training Loss: 0.580\n",
            "Validation Loss: 0.504\n",
            "\n",
            " Epoch 7 / 100\n",
            "\n",
            "Evaluating...\n",
            "\n",
            "Training Loss: 0.533\n",
            "Validation Loss: 0.478\n",
            "\n",
            " Epoch 8 / 100\n",
            "\n",
            "Evaluating...\n",
            "\n",
            "Training Loss: 0.479\n",
            "Validation Loss: 0.585\n",
            "\n",
            " Epoch 9 / 100\n",
            "\n",
            "Evaluating...\n",
            "\n",
            "Training Loss: 0.599\n",
            "Validation Loss: 0.596\n",
            "\n",
            " Epoch 10 / 100\n",
            "\n",
            "Evaluating...\n",
            "\n",
            "Training Loss: 0.836\n",
            "Validation Loss: 0.367\n",
            "\n",
            " Epoch 11 / 100\n",
            "\n",
            "Evaluating...\n",
            "\n",
            "Training Loss: 0.538\n",
            "Validation Loss: 0.375\n",
            "\n",
            " Epoch 12 / 100\n",
            "\n",
            "Evaluating...\n",
            "\n",
            "Training Loss: 0.571\n",
            "Validation Loss: 0.349\n",
            "\n",
            " Epoch 13 / 100\n",
            "\n",
            "Evaluating...\n",
            "\n",
            "Training Loss: 0.484\n",
            "Validation Loss: 0.337\n",
            "\n",
            " Epoch 14 / 100\n",
            "\n",
            "Evaluating...\n",
            "\n",
            "Training Loss: 0.457\n",
            "Validation Loss: 0.321\n",
            "\n",
            " Epoch 15 / 100\n",
            "\n",
            "Evaluating...\n",
            "\n",
            "Training Loss: 0.476\n",
            "Validation Loss: 0.312\n",
            "\n",
            " Epoch 16 / 100\n",
            "\n",
            "Evaluating...\n",
            "\n",
            "Training Loss: 0.425\n",
            "Validation Loss: 0.389\n",
            "\n",
            " Epoch 17 / 100\n",
            "\n",
            "Evaluating...\n",
            "\n",
            "Training Loss: 0.677\n",
            "Validation Loss: 0.291\n",
            "\n",
            " Epoch 18 / 100\n",
            "\n",
            "Evaluating...\n",
            "\n",
            "Training Loss: 0.667\n",
            "Validation Loss: 0.275\n",
            "\n",
            " Epoch 19 / 100\n",
            "\n",
            "Evaluating...\n",
            "\n",
            "Training Loss: 0.438\n",
            "Validation Loss: 0.269\n",
            "\n",
            " Epoch 20 / 100\n",
            "\n",
            "Evaluating...\n",
            "\n",
            "Training Loss: 0.279\n",
            "Validation Loss: 0.335\n",
            "\n",
            " Epoch 21 / 100\n",
            "\n",
            "Evaluating...\n",
            "\n",
            "Training Loss: 0.462\n",
            "Validation Loss: 0.296\n",
            "\n",
            " Epoch 22 / 100\n",
            "\n",
            "Evaluating...\n",
            "\n",
            "Training Loss: 0.442\n",
            "Validation Loss: 0.215\n",
            "\n",
            " Epoch 23 / 100\n",
            "\n",
            "Evaluating...\n",
            "\n",
            "Training Loss: 0.446\n",
            "Validation Loss: 0.230\n",
            "\n",
            " Epoch 24 / 100\n",
            "\n",
            "Evaluating...\n",
            "\n",
            "Training Loss: 0.306\n",
            "Validation Loss: 0.210\n",
            "\n",
            " Epoch 25 / 100\n",
            "\n",
            "Evaluating...\n",
            "\n",
            "Training Loss: 0.303\n",
            "Validation Loss: 0.189\n",
            "\n",
            " Epoch 26 / 100\n",
            "\n",
            "Evaluating...\n",
            "\n",
            "Training Loss: 0.378\n",
            "Validation Loss: 0.183\n",
            "\n",
            " Epoch 27 / 100\n",
            "\n",
            "Evaluating...\n",
            "\n",
            "Training Loss: 0.479\n",
            "Validation Loss: 0.179\n",
            "\n",
            " Epoch 28 / 100\n",
            "\n",
            "Evaluating...\n",
            "\n",
            "Training Loss: 0.437\n",
            "Validation Loss: 0.204\n",
            "\n",
            " Epoch 29 / 100\n",
            "\n",
            "Evaluating...\n",
            "\n",
            "Training Loss: 0.361\n",
            "Validation Loss: 0.291\n",
            "\n",
            " Epoch 30 / 100\n",
            "\n",
            "Evaluating...\n",
            "\n",
            "Training Loss: 0.487\n",
            "Validation Loss: 0.192\n",
            "\n",
            " Epoch 31 / 100\n",
            "\n",
            "Evaluating...\n",
            "\n",
            "Training Loss: 0.597\n",
            "Validation Loss: 0.174\n",
            "\n",
            " Epoch 32 / 100\n",
            "\n",
            "Evaluating...\n",
            "\n",
            "Training Loss: 0.348\n",
            "Validation Loss: 0.161\n",
            "\n",
            " Epoch 33 / 100\n",
            "\n",
            "Evaluating...\n",
            "\n",
            "Training Loss: 0.347\n",
            "Validation Loss: 0.161\n",
            "\n",
            " Epoch 34 / 100\n",
            "\n",
            "Evaluating...\n",
            "\n",
            "Training Loss: 0.322\n",
            "Validation Loss: 0.167\n",
            "\n",
            " Epoch 35 / 100\n",
            "\n",
            "Evaluating...\n",
            "\n",
            "Training Loss: 0.281\n",
            "Validation Loss: 0.275\n",
            "\n",
            " Epoch 36 / 100\n",
            "\n",
            "Evaluating...\n",
            "\n",
            "Training Loss: 0.696\n",
            "Validation Loss: 0.163\n",
            "\n",
            " Epoch 37 / 100\n",
            "\n",
            "Evaluating...\n",
            "\n",
            "Training Loss: 0.310\n",
            "Validation Loss: 0.140\n",
            "\n",
            " Epoch 38 / 100\n",
            "\n",
            "Evaluating...\n",
            "\n",
            "Training Loss: 0.335\n",
            "Validation Loss: 0.208\n",
            "\n",
            " Epoch 39 / 100\n",
            "\n",
            "Evaluating...\n",
            "\n",
            "Training Loss: 0.478\n",
            "Validation Loss: 0.207\n",
            "\n",
            " Epoch 40 / 100\n",
            "\n",
            "Evaluating...\n",
            "\n",
            "Training Loss: 0.280\n",
            "Validation Loss: 0.140\n",
            "\n",
            " Epoch 41 / 100\n",
            "\n",
            "Evaluating...\n",
            "\n",
            "Training Loss: 0.392\n",
            "Validation Loss: 0.150\n",
            "\n",
            " Epoch 42 / 100\n",
            "\n",
            "Evaluating...\n",
            "\n",
            "Training Loss: 0.459\n",
            "Validation Loss: 0.172\n",
            "\n",
            " Epoch 43 / 100\n",
            "\n",
            "Evaluating...\n",
            "\n",
            "Training Loss: 0.563\n",
            "Validation Loss: 1.054\n",
            "\n",
            " Epoch 44 / 100\n",
            "\n",
            "Evaluating...\n",
            "\n",
            "Training Loss: 1.273\n",
            "Validation Loss: 0.245\n",
            "\n",
            " Epoch 45 / 100\n",
            "\n",
            "Evaluating...\n",
            "\n",
            "Training Loss: 0.495\n",
            "Validation Loss: 0.474\n",
            "\n",
            " Epoch 46 / 100\n",
            "\n",
            "Evaluating...\n",
            "\n",
            "Training Loss: 0.420\n",
            "Validation Loss: 0.180\n",
            "\n",
            " Epoch 47 / 100\n",
            "\n",
            "Evaluating...\n",
            "\n",
            "Training Loss: 0.401\n",
            "Validation Loss: 0.199\n",
            "\n",
            " Epoch 48 / 100\n",
            "\n",
            "Evaluating...\n",
            "\n",
            "Training Loss: 0.399\n",
            "Validation Loss: 0.174\n",
            "\n",
            " Epoch 49 / 100\n",
            "\n",
            "Evaluating...\n",
            "\n",
            "Training Loss: 0.310\n",
            "Validation Loss: 0.139\n",
            "\n",
            " Epoch 50 / 100\n",
            "\n",
            "Evaluating...\n",
            "\n",
            "Training Loss: 0.421\n",
            "Validation Loss: 0.338\n",
            "\n",
            " Epoch 51 / 100\n",
            "\n",
            "Evaluating...\n",
            "\n",
            "Training Loss: 0.290\n",
            "Validation Loss: 0.211\n",
            "\n",
            " Epoch 52 / 100\n",
            "\n",
            "Evaluating...\n",
            "\n",
            "Training Loss: 0.456\n",
            "Validation Loss: 0.148\n",
            "\n",
            " Epoch 53 / 100\n",
            "\n",
            "Evaluating...\n",
            "\n",
            "Training Loss: 0.416\n",
            "Validation Loss: 0.181\n",
            "\n",
            " Epoch 54 / 100\n",
            "\n",
            "Evaluating...\n",
            "\n",
            "Training Loss: 0.283\n",
            "Validation Loss: 0.206\n",
            "\n",
            " Epoch 55 / 100\n",
            "\n",
            "Evaluating...\n",
            "\n",
            "Training Loss: 0.647\n",
            "Validation Loss: 0.190\n",
            "\n",
            " Epoch 56 / 100\n",
            "\n",
            "Evaluating...\n",
            "\n",
            "Training Loss: 0.410\n",
            "Validation Loss: 0.308\n",
            "\n",
            " Epoch 57 / 100\n",
            "\n",
            "Evaluating...\n",
            "\n",
            "Training Loss: 0.390\n",
            "Validation Loss: 0.207\n",
            "\n",
            " Epoch 58 / 100\n",
            "\n",
            "Evaluating...\n",
            "\n",
            "Training Loss: 0.512\n",
            "Validation Loss: 0.121\n",
            "\n",
            " Epoch 59 / 100\n",
            "\n",
            "Evaluating...\n",
            "\n",
            "Training Loss: 0.577\n",
            "Validation Loss: 0.467\n",
            "\n",
            " Epoch 60 / 100\n",
            "\n",
            "Evaluating...\n",
            "\n",
            "Training Loss: 0.418\n",
            "Validation Loss: 0.175\n",
            "\n",
            " Epoch 61 / 100\n",
            "\n",
            "Evaluating...\n",
            "\n",
            "Training Loss: 0.378\n",
            "Validation Loss: 0.193\n",
            "\n",
            " Epoch 62 / 100\n",
            "\n",
            "Evaluating...\n",
            "\n",
            "Training Loss: 0.387\n",
            "Validation Loss: 0.194\n",
            "\n",
            " Epoch 63 / 100\n",
            "\n",
            "Evaluating...\n",
            "\n",
            "Training Loss: 0.431\n",
            "Validation Loss: 0.139\n",
            "\n",
            " Epoch 64 / 100\n",
            "\n",
            "Evaluating...\n",
            "\n",
            "Training Loss: 0.271\n",
            "Validation Loss: 0.121\n",
            "\n",
            " Epoch 65 / 100\n",
            "\n",
            "Evaluating...\n",
            "\n",
            "Training Loss: 0.339\n",
            "Validation Loss: 0.113\n",
            "\n",
            " Epoch 66 / 100\n",
            "\n",
            "Evaluating...\n",
            "\n",
            "Training Loss: 0.447\n",
            "Validation Loss: 0.178\n",
            "\n",
            " Epoch 67 / 100\n",
            "\n",
            "Evaluating...\n",
            "\n",
            "Training Loss: 0.287\n",
            "Validation Loss: 0.108\n",
            "\n",
            " Epoch 68 / 100\n",
            "\n",
            "Evaluating...\n",
            "\n",
            "Training Loss: 0.237\n",
            "Validation Loss: 0.567\n",
            "\n",
            " Epoch 69 / 100\n",
            "\n",
            "Evaluating...\n",
            "\n",
            "Training Loss: 0.756\n",
            "Validation Loss: 0.303\n",
            "\n",
            " Epoch 70 / 100\n",
            "\n",
            "Evaluating...\n",
            "\n",
            "Training Loss: 0.629\n",
            "Validation Loss: 0.453\n",
            "\n",
            " Epoch 71 / 100\n",
            "\n",
            "Evaluating...\n",
            "\n",
            "Training Loss: 0.492\n",
            "Validation Loss: 0.121\n",
            "\n",
            " Epoch 72 / 100\n",
            "\n",
            "Evaluating...\n",
            "\n",
            "Training Loss: 0.332\n",
            "Validation Loss: 0.222\n",
            "\n",
            " Epoch 73 / 100\n",
            "\n",
            "Evaluating...\n",
            "\n",
            "Training Loss: 0.467\n",
            "Validation Loss: 0.127\n",
            "\n",
            " Epoch 74 / 100\n",
            "\n",
            "Evaluating...\n",
            "\n",
            "Training Loss: 0.211\n",
            "Validation Loss: 0.178\n",
            "\n",
            " Epoch 75 / 100\n",
            "\n",
            "Evaluating...\n",
            "\n",
            "Training Loss: 0.462\n",
            "Validation Loss: 0.290\n",
            "\n",
            " Epoch 76 / 100\n",
            "\n",
            "Evaluating...\n",
            "\n",
            "Training Loss: 0.330\n",
            "Validation Loss: 0.216\n",
            "\n",
            " Epoch 77 / 100\n",
            "\n",
            "Evaluating...\n",
            "\n",
            "Training Loss: 0.345\n",
            "Validation Loss: 0.139\n",
            "\n",
            " Epoch 78 / 100\n",
            "\n",
            "Evaluating...\n",
            "\n",
            "Training Loss: 0.354\n",
            "Validation Loss: 0.177\n",
            "\n",
            " Epoch 79 / 100\n",
            "\n",
            "Evaluating...\n",
            "\n",
            "Training Loss: 0.350\n",
            "Validation Loss: 0.103\n",
            "\n",
            " Epoch 80 / 100\n",
            "\n",
            "Evaluating...\n",
            "\n",
            "Training Loss: 0.367\n",
            "Validation Loss: 0.177\n",
            "\n",
            " Epoch 81 / 100\n",
            "\n",
            "Evaluating...\n",
            "\n",
            "Training Loss: 0.345\n",
            "Validation Loss: 0.143\n",
            "\n",
            " Epoch 82 / 100\n",
            "\n",
            "Evaluating...\n",
            "\n",
            "Training Loss: 0.215\n",
            "Validation Loss: 0.122\n",
            "\n",
            " Epoch 83 / 100\n",
            "\n",
            "Evaluating...\n",
            "\n",
            "Training Loss: 0.305\n",
            "Validation Loss: 0.102\n",
            "\n",
            " Epoch 84 / 100\n",
            "\n",
            "Evaluating...\n",
            "\n",
            "Training Loss: 0.410\n",
            "Validation Loss: 0.290\n",
            "\n",
            " Epoch 85 / 100\n",
            "\n",
            "Evaluating...\n",
            "\n",
            "Training Loss: 0.428\n",
            "Validation Loss: 0.121\n",
            "\n",
            " Epoch 86 / 100\n",
            "\n",
            "Evaluating...\n",
            "\n",
            "Training Loss: 0.421\n",
            "Validation Loss: 0.128\n",
            "\n",
            " Epoch 87 / 100\n",
            "\n",
            "Evaluating...\n",
            "\n",
            "Training Loss: 0.300\n",
            "Validation Loss: 0.262\n",
            "\n",
            " Epoch 88 / 100\n",
            "\n",
            "Evaluating...\n",
            "\n",
            "Training Loss: 0.303\n",
            "Validation Loss: 0.156\n",
            "\n",
            " Epoch 89 / 100\n",
            "\n",
            "Evaluating...\n",
            "\n",
            "Training Loss: 0.222\n",
            "Validation Loss: 0.131\n",
            "\n",
            " Epoch 90 / 100\n",
            "\n",
            "Evaluating...\n",
            "\n",
            "Training Loss: 0.252\n",
            "Validation Loss: 0.093\n",
            "\n",
            " Epoch 91 / 100\n",
            "\n",
            "Evaluating...\n",
            "\n",
            "Training Loss: 0.351\n",
            "Validation Loss: 0.082\n",
            "\n",
            " Epoch 92 / 100\n",
            "\n",
            "Evaluating...\n",
            "\n",
            "Training Loss: 0.382\n",
            "Validation Loss: 0.089\n",
            "\n",
            " Epoch 93 / 100\n",
            "\n",
            "Evaluating...\n",
            "\n",
            "Training Loss: 0.455\n",
            "Validation Loss: 0.084\n",
            "\n",
            " Epoch 94 / 100\n",
            "\n",
            "Evaluating...\n",
            "\n",
            "Training Loss: 0.375\n",
            "Validation Loss: 0.077\n",
            "\n",
            " Epoch 95 / 100\n",
            "\n",
            "Evaluating...\n",
            "\n",
            "Training Loss: 0.258\n",
            "Validation Loss: 0.080\n",
            "\n",
            " Epoch 96 / 100\n",
            "\n",
            "Evaluating...\n",
            "\n",
            "Training Loss: 0.489\n",
            "Validation Loss: 0.119\n",
            "\n",
            " Epoch 97 / 100\n",
            "\n",
            "Evaluating...\n",
            "\n",
            "Training Loss: 0.306\n",
            "Validation Loss: 0.097\n",
            "\n",
            " Epoch 98 / 100\n",
            "\n",
            "Evaluating...\n",
            "\n",
            "Training Loss: 0.233\n",
            "Validation Loss: 0.168\n",
            "\n",
            " Epoch 99 / 100\n",
            "\n",
            "Evaluating...\n",
            "\n",
            "Training Loss: 0.308\n",
            "Validation Loss: 0.105\n",
            "\n",
            " Epoch 100 / 100\n",
            "\n",
            "Evaluating...\n",
            "\n",
            "Training Loss: 0.307\n",
            "Validation Loss: 0.095\n"
          ]
        }
      ]
    },
    {
      "cell_type": "markdown",
      "source": [
        "#**Load Saved Model**"
      ],
      "metadata": {
        "id": "Ku-56cGKEYLU"
      }
    },
    {
      "cell_type": "code",
      "source": [
        "#load weights of best model\n",
        "path = 'saved_weights.pt'\n",
        "model.load_state_dict(torch.load(path))"
      ],
      "metadata": {
        "colab": {
          "base_uri": "https://localhost:8080/"
        },
        "id": "BCwRz7DZ-lRx",
        "outputId": "207c84c3-e574-45d7-9e93-e59fd9f829b5"
      },
      "execution_count": null,
      "outputs": [
        {
          "output_type": "execute_result",
          "data": {
            "text/plain": [
              "<All keys matched successfully>"
            ]
          },
          "metadata": {},
          "execution_count": 31
        }
      ]
    },
    {
      "cell_type": "markdown",
      "source": [
        "# **Get Predictions for Test Data**"
      ],
      "metadata": {
        "id": "t209R_3Q-0yZ"
      }
    },
    {
      "cell_type": "code",
      "source": [
        "# get predictions for train data\n",
        "with torch.no_grad():\n",
        "  preds = model(train_seq.to(device), train_mask.to(device))\n",
        "  preds = preds.detach().cpu().numpy()"
      ],
      "metadata": {
        "id": "txFGM49y-lU5"
      },
      "execution_count": null,
      "outputs": []
    },
    {
      "cell_type": "code",
      "source": [
        "# model's performance\n",
        "preds = np.argmax(preds, axis = 1)\n",
        "print(classification_report(train_y, preds))"
      ],
      "metadata": {
        "colab": {
          "base_uri": "https://localhost:8080/"
        },
        "id": "TM2yLFOH-lYK",
        "outputId": "5660a971-c89b-428e-bb93-5c1638271559"
      },
      "execution_count": null,
      "outputs": [
        {
          "output_type": "stream",
          "name": "stdout",
          "text": [
            "              precision    recall  f1-score   support\n",
            "\n",
            "           0       1.00      1.00      1.00        56\n",
            "           1       1.00      1.00      1.00        30\n",
            "\n",
            "    accuracy                           1.00        86\n",
            "   macro avg       1.00      1.00      1.00        86\n",
            "weighted avg       1.00      1.00      1.00        86\n",
            "\n"
          ]
        }
      ]
    },
    {
      "cell_type": "code",
      "source": [
        "# confusion matrix\n",
        "pd.crosstab(train_y, preds)"
      ],
      "metadata": {
        "colab": {
          "base_uri": "https://localhost:8080/",
          "height": 143
        },
        "id": "un-lM4RC-lbF",
        "outputId": "6829dc7c-d0c7-46f6-df3a-4c670f76bf5d"
      },
      "execution_count": null,
      "outputs": [
        {
          "output_type": "execute_result",
          "data": {
            "text/plain": [
              "col_0   0   1\n",
              "row_0        \n",
              "0      56   0\n",
              "1       0  30"
            ],
            "text/html": [
              "\n",
              "  <div id=\"df-5dccb7af-e3f0-4407-b324-44f530b1e934\">\n",
              "    <div class=\"colab-df-container\">\n",
              "      <div>\n",
              "<style scoped>\n",
              "    .dataframe tbody tr th:only-of-type {\n",
              "        vertical-align: middle;\n",
              "    }\n",
              "\n",
              "    .dataframe tbody tr th {\n",
              "        vertical-align: top;\n",
              "    }\n",
              "\n",
              "    .dataframe thead th {\n",
              "        text-align: right;\n",
              "    }\n",
              "</style>\n",
              "<table border=\"1\" class=\"dataframe\">\n",
              "  <thead>\n",
              "    <tr style=\"text-align: right;\">\n",
              "      <th>col_0</th>\n",
              "      <th>0</th>\n",
              "      <th>1</th>\n",
              "    </tr>\n",
              "    <tr>\n",
              "      <th>row_0</th>\n",
              "      <th></th>\n",
              "      <th></th>\n",
              "    </tr>\n",
              "  </thead>\n",
              "  <tbody>\n",
              "    <tr>\n",
              "      <th>0</th>\n",
              "      <td>56</td>\n",
              "      <td>0</td>\n",
              "    </tr>\n",
              "    <tr>\n",
              "      <th>1</th>\n",
              "      <td>0</td>\n",
              "      <td>30</td>\n",
              "    </tr>\n",
              "  </tbody>\n",
              "</table>\n",
              "</div>\n",
              "      <button class=\"colab-df-convert\" onclick=\"convertToInteractive('df-5dccb7af-e3f0-4407-b324-44f530b1e934')\"\n",
              "              title=\"Convert this dataframe to an interactive table.\"\n",
              "              style=\"display:none;\">\n",
              "        \n",
              "  <svg xmlns=\"http://www.w3.org/2000/svg\" height=\"24px\"viewBox=\"0 0 24 24\"\n",
              "       width=\"24px\">\n",
              "    <path d=\"M0 0h24v24H0V0z\" fill=\"none\"/>\n",
              "    <path d=\"M18.56 5.44l.94 2.06.94-2.06 2.06-.94-2.06-.94-.94-2.06-.94 2.06-2.06.94zm-11 1L8.5 8.5l.94-2.06 2.06-.94-2.06-.94L8.5 2.5l-.94 2.06-2.06.94zm10 10l.94 2.06.94-2.06 2.06-.94-2.06-.94-.94-2.06-.94 2.06-2.06.94z\"/><path d=\"M17.41 7.96l-1.37-1.37c-.4-.4-.92-.59-1.43-.59-.52 0-1.04.2-1.43.59L10.3 9.45l-7.72 7.72c-.78.78-.78 2.05 0 2.83L4 21.41c.39.39.9.59 1.41.59.51 0 1.02-.2 1.41-.59l7.78-7.78 2.81-2.81c.8-.78.8-2.07 0-2.86zM5.41 20L4 18.59l7.72-7.72 1.47 1.35L5.41 20z\"/>\n",
              "  </svg>\n",
              "      </button>\n",
              "      \n",
              "  <style>\n",
              "    .colab-df-container {\n",
              "      display:flex;\n",
              "      flex-wrap:wrap;\n",
              "      gap: 12px;\n",
              "    }\n",
              "\n",
              "    .colab-df-convert {\n",
              "      background-color: #E8F0FE;\n",
              "      border: none;\n",
              "      border-radius: 50%;\n",
              "      cursor: pointer;\n",
              "      display: none;\n",
              "      fill: #1967D2;\n",
              "      height: 32px;\n",
              "      padding: 0 0 0 0;\n",
              "      width: 32px;\n",
              "    }\n",
              "\n",
              "    .colab-df-convert:hover {\n",
              "      background-color: #E2EBFA;\n",
              "      box-shadow: 0px 1px 2px rgba(60, 64, 67, 0.3), 0px 1px 3px 1px rgba(60, 64, 67, 0.15);\n",
              "      fill: #174EA6;\n",
              "    }\n",
              "\n",
              "    [theme=dark] .colab-df-convert {\n",
              "      background-color: #3B4455;\n",
              "      fill: #D2E3FC;\n",
              "    }\n",
              "\n",
              "    [theme=dark] .colab-df-convert:hover {\n",
              "      background-color: #434B5C;\n",
              "      box-shadow: 0px 1px 3px 1px rgba(0, 0, 0, 0.15);\n",
              "      filter: drop-shadow(0px 1px 2px rgba(0, 0, 0, 0.3));\n",
              "      fill: #FFFFFF;\n",
              "    }\n",
              "  </style>\n",
              "\n",
              "      <script>\n",
              "        const buttonEl =\n",
              "          document.querySelector('#df-5dccb7af-e3f0-4407-b324-44f530b1e934 button.colab-df-convert');\n",
              "        buttonEl.style.display =\n",
              "          google.colab.kernel.accessAllowed ? 'block' : 'none';\n",
              "\n",
              "        async function convertToInteractive(key) {\n",
              "          const element = document.querySelector('#df-5dccb7af-e3f0-4407-b324-44f530b1e934');\n",
              "          const dataTable =\n",
              "            await google.colab.kernel.invokeFunction('convertToInteractive',\n",
              "                                                     [key], {});\n",
              "          if (!dataTable) return;\n",
              "\n",
              "          const docLinkHtml = 'Like what you see? Visit the ' +\n",
              "            '<a target=\"_blank\" href=https://colab.research.google.com/notebooks/data_table.ipynb>data table notebook</a>'\n",
              "            + ' to learn more about interactive tables.';\n",
              "          element.innerHTML = '';\n",
              "          dataTable['output_type'] = 'display_data';\n",
              "          await google.colab.output.renderOutput(dataTable, element);\n",
              "          const docLink = document.createElement('div');\n",
              "          docLink.innerHTML = docLinkHtml;\n",
              "          element.appendChild(docLink);\n",
              "        }\n",
              "      </script>\n",
              "    </div>\n",
              "  </div>\n",
              "  "
            ]
          },
          "metadata": {},
          "execution_count": 34
        }
      ]
    },
    {
      "cell_type": "code",
      "source": [
        "# get predictions for test data\n",
        "with torch.no_grad():\n",
        "  preds = model(test_seq.to(device), test_mask.to(device))\n",
        "  preds = preds.detach().cpu().numpy()"
      ],
      "metadata": {
        "id": "KliA9amY_1Hf"
      },
      "execution_count": null,
      "outputs": []
    },
    {
      "cell_type": "code",
      "source": [
        "# model's performance\n",
        "preds = np.argmax(preds, axis = 1)\n",
        "print(classification_report(test_y, preds))"
      ],
      "metadata": {
        "id": "VGAHOCpu-lgr",
        "colab": {
          "base_uri": "https://localhost:8080/"
        },
        "outputId": "692be1ce-3c23-4f9e-d419-0051a1bf5fa7"
      },
      "execution_count": null,
      "outputs": [
        {
          "output_type": "stream",
          "name": "stdout",
          "text": [
            "              precision    recall  f1-score   support\n",
            "\n",
            "           0       0.90      0.76      0.83        25\n",
            "           1       0.65      0.85      0.73        13\n",
            "\n",
            "    accuracy                           0.79        38\n",
            "   macro avg       0.78      0.80      0.78        38\n",
            "weighted avg       0.82      0.79      0.79        38\n",
            "\n"
          ]
        }
      ]
    },
    {
      "cell_type": "code",
      "source": [],
      "metadata": {
        "id": "vHiBTT76_-8X"
      },
      "execution_count": null,
      "outputs": []
    }
  ]
}